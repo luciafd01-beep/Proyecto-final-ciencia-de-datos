{
 "cells": [
  {
   "cell_type": "markdown",
   "id": "f60ace26",
   "metadata": {},
   "source": [
    "# Proyecto Final: Herramientas y Conceptos de Ciencia de Datos"
   ]
  },
  {
   "cell_type": "markdown",
   "id": "692659d3",
   "metadata": {},
   "source": [
    "## Introducción\n",
    "En este cuaderno se presentan conceptos básicos relacionados con la ciencia de datos, incluyendo lenguajes, bibliotecas, herramientas y ejemplos prácticos con Python."
   ]
  },
  {
   "cell_type": "markdown",
   "id": "6a37d5b6",
   "metadata": {},
   "source": [
    "## Lenguajes de la Ciencia de Datos\n",
    "- Python\n",
    "- R\n",
    "- SQL\n",
    "- Java\n",
    "- Julia\n",
    "- Scala"
   ]
  },
  {
   "cell_type": "markdown",
   "id": "19a44b85",
   "metadata": {},
   "source": [
    "## Bibliotecas de Ciencia de Datos\n",
    "- Pandas\n",
    "- NumPy\n",
    "- Matplotlib\n",
    "- Seaborn\n",
    "- SciPy\n",
    "- Scikit-learn\n",
    "- TensorFlow"
   ]
  },
  {
   "cell_type": "markdown",
   "id": "8bb326bc",
   "metadata": {},
   "source": [
    "## Herramientas de Ciencia de Datos\n",
    "\n",
    "| Herramienta         | Uso Principal                          |\n",
    "|----------------------|----------------------------------------|\n",
    "| Jupyter Notebook    | Desarrollo interactivo con Python      |\n",
    "| RStudio             | Desarrollo en R                        |\n",
    "| Apache Spark        | Procesamiento de grandes volúmenes     |\n",
    "| TensorFlow          | Aprendizaje automático y profundo      |\n",
    "| Tableau             | Visualización de datos                 |"
   ]
  },
  {
   "cell_type": "markdown",
   "id": "9108dbab",
   "metadata": {},
   "source": [
    "## Ejemplos de Expresiones Aritméticas\n",
    "En esta sección se muestran operaciones básicas como suma, resta, multiplicación y división usando Python."
   ]
  },
  {
   "cell_type": "code",
   "execution_count": null,
   "id": "d6a409a0",
   "metadata": {},
   "outputs": [],
   "source": [
    "# Ejemplo de multiplicación y suma\n",
    "multiplicacion = 5 * 7\n",
    "suma = 10 + 3\n",
    "multiplicacion, suma"
   ]
  },
  {
   "cell_type": "code",
   "execution_count": null,
   "id": "91d4494e",
   "metadata": {},
   "outputs": [],
   "source": [
    "# Conversión de minutos a horas\n",
    "minutos = 150\n",
    "horas = minutos / 60\n",
    "horas"
   ]
  },
  {
   "cell_type": "code",
   "execution_count": null,
   "id": "c2de45fc",
   "metadata": {},
   "outputs": [],
   "source": [
    "# Lista de objetivos del cuaderno\n",
    "objetivos = [\n",
    "    \"Identificar lenguajes de ciencia de datos\",\n",
    "    \"Reconocer bibliotecas importantes\",\n",
    "    \"Conocer herramientas utilizadas\",\n",
    "    \"Practicar operaciones aritméticas en Python\",\n",
    "    \"Aplicar conversiones simples en código\"\n",
    "]\n",
    "objetivos"
   ]
  },
  {
   "cell_type": "markdown",
   "id": "19711950",
   "metadata": {},
   "source": [
    "## Autor\n",
    "**María Guadalupe Vázquez Martínez**"
   ]
  }
 ],
 "metadata": {},
 "nbformat": 4,
 "nbformat_minor": 5
}